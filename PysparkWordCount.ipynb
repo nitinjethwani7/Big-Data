{
 "cells": [
  {
   "cell_type": "code",
   "execution_count": 1,
   "id": "4cb7a772",
   "metadata": {},
   "outputs": [],
   "source": [
    "# import library for pyspark\n",
    "import pyspark"
   ]
  },
  {
   "cell_type": "code",
   "execution_count": 2,
   "id": "0ea9873e",
   "metadata": {},
   "outputs": [],
   "source": [
    "# To create SparkContext\n",
    "from pyspark import SparkContext"
   ]
  },
  {
   "cell_type": "code",
   "execution_count": 3,
   "id": "df18020a",
   "metadata": {},
   "outputs": [
    {
     "name": "stderr",
     "output_type": "stream",
     "text": [
      "22/01/31 19:23:53 WARN Utils: Your hostname, Nihits-MacBook-Air.local resolves to a loopback address: 127.0.0.1; using 192.168.1.5 instead (on interface en0)\n",
      "22/01/31 19:23:53 WARN Utils: Set SPARK_LOCAL_IP if you need to bind to another address\n",
      "Using Spark's default log4j profile: org/apache/spark/log4j-defaults.properties\n",
      "Setting default log level to \"WARN\".\n",
      "To adjust logging level use sc.setLogLevel(newLevel). For SparkR, use setLogLevel(newLevel).\n",
      "22/01/31 19:23:54 WARN NativeCodeLoader: Unable to load native-hadoop library for your platform... using builtin-java classes where applicable\n",
      "22/01/31 19:23:55 WARN Utils: Service 'SparkUI' could not bind on port 4040. Attempting port 4041.\n"
     ]
    }
   ],
   "source": [
    "sc = SparkContext()"
   ]
  },
  {
   "cell_type": "code",
   "execution_count": 4,
   "id": "4a5539cd",
   "metadata": {},
   "outputs": [],
   "source": [
    "text_file = sc.textFile(\"sample.txt\")"
   ]
  },
  {
   "cell_type": "code",
   "execution_count": 5,
   "id": "2b573094",
   "metadata": {},
   "outputs": [
    {
     "name": "stderr",
     "output_type": "stream",
     "text": [
      "                                                                                \r"
     ]
    },
    {
     "data": {
      "text/plain": [
       "[\"Sunset, also known as sundown, is the daily disappearance of the Sun below the horizon due to Earth's rotation.@As viewed from everywhere on Earth (except the North and South poles),@the equinox Sun sets due west at the moment of both the Spring and Autumn equinox.@As viewed from the Northern Hemisphere, the sun sets to the northwest (or not at all) in the Northern hemisphere's spring and summer, and to the southwest in the autumn and winter.@these seasons are reversed for the Southern Hemisphere.\"]"
      ]
     },
     "execution_count": 5,
     "metadata": {},
     "output_type": "execute_result"
    }
   ],
   "source": [
    "text_file.collect()"
   ]
  },
  {
   "cell_type": "code",
   "execution_count": 6,
   "id": "a292846d",
   "metadata": {},
   "outputs": [],
   "source": [
    "new1 = text_file.flatMap(lambda line: line.split(\"@\"))"
   ]
  },
  {
   "cell_type": "code",
   "execution_count": 7,
   "id": "aaa0a635",
   "metadata": {},
   "outputs": [
    {
     "name": "stderr",
     "output_type": "stream",
     "text": [
      "                                                                                \r"
     ]
    },
    {
     "data": {
      "text/plain": [
       "[\"Sunset, also known as sundown, is the daily disappearance of the Sun below the horizon due to Earth's rotation.\",\n",
       " 'As viewed from everywhere on Earth (except the North and South poles),',\n",
       " 'the equinox Sun sets due west at the moment of both the Spring and Autumn equinox.',\n",
       " \"As viewed from the Northern Hemisphere, the sun sets to the northwest (or not at all) in the Northern hemisphere's spring and summer, and to the southwest in the autumn and winter.\",\n",
       " 'these seasons are reversed for the Southern Hemisphere.']"
      ]
     },
     "execution_count": 7,
     "metadata": {},
     "output_type": "execute_result"
    }
   ],
   "source": [
    "new1.collect()"
   ]
  },
  {
   "cell_type": "code",
   "execution_count": 8,
   "id": "a04ad7a7",
   "metadata": {},
   "outputs": [],
   "source": [
    "text_file = sc.textFile(\"sample.txt\")"
   ]
  },
  {
   "cell_type": "code",
   "execution_count": 9,
   "id": "5f7cfa4f",
   "metadata": {},
   "outputs": [],
   "source": [
    "counts = text_file.flatMap(lambda line: line.split(\" \"))"
   ]
  },
  {
   "cell_type": "code",
   "execution_count": 10,
   "id": "50ad2f20",
   "metadata": {},
   "outputs": [
    {
     "data": {
      "text/plain": [
       "['Sunset,',\n",
       " 'also',\n",
       " 'known',\n",
       " 'as',\n",
       " 'sundown,',\n",
       " 'is',\n",
       " 'the',\n",
       " 'daily',\n",
       " 'disappearance',\n",
       " 'of',\n",
       " 'the',\n",
       " 'Sun',\n",
       " 'below',\n",
       " 'the',\n",
       " 'horizon',\n",
       " 'due',\n",
       " 'to',\n",
       " \"Earth's\",\n",
       " 'rotation.@As',\n",
       " 'viewed',\n",
       " 'from',\n",
       " 'everywhere',\n",
       " 'on',\n",
       " 'Earth',\n",
       " '(except',\n",
       " 'the',\n",
       " 'North',\n",
       " 'and',\n",
       " 'South',\n",
       " 'poles),@the',\n",
       " 'equinox',\n",
       " 'Sun',\n",
       " 'sets',\n",
       " 'due',\n",
       " 'west',\n",
       " 'at',\n",
       " 'the',\n",
       " 'moment',\n",
       " 'of',\n",
       " 'both',\n",
       " 'the',\n",
       " 'Spring',\n",
       " 'and',\n",
       " 'Autumn',\n",
       " 'equinox.@As',\n",
       " 'viewed',\n",
       " 'from',\n",
       " 'the',\n",
       " 'Northern',\n",
       " 'Hemisphere,',\n",
       " 'the',\n",
       " 'sun',\n",
       " 'sets',\n",
       " 'to',\n",
       " 'the',\n",
       " 'northwest',\n",
       " '(or',\n",
       " 'not',\n",
       " 'at',\n",
       " 'all)',\n",
       " 'in',\n",
       " 'the',\n",
       " 'Northern',\n",
       " \"hemisphere's\",\n",
       " 'spring',\n",
       " 'and',\n",
       " 'summer,',\n",
       " 'and',\n",
       " 'to',\n",
       " 'the',\n",
       " 'southwest',\n",
       " 'in',\n",
       " 'the',\n",
       " 'autumn',\n",
       " 'and',\n",
       " 'winter.@these',\n",
       " 'seasons',\n",
       " 'are',\n",
       " 'reversed',\n",
       " 'for',\n",
       " 'the',\n",
       " 'Southern',\n",
       " 'Hemisphere.']"
      ]
     },
     "execution_count": 10,
     "metadata": {},
     "output_type": "execute_result"
    }
   ],
   "source": [
    "counts.collect()"
   ]
  },
  {
   "cell_type": "code",
   "execution_count": 11,
   "id": "8f068f9f",
   "metadata": {},
   "outputs": [],
   "source": [
    "counts1 = counts.map(lambda word: (word, 1))"
   ]
  },
  {
   "cell_type": "code",
   "execution_count": 12,
   "id": "36b1c2ee",
   "metadata": {},
   "outputs": [
    {
     "data": {
      "text/plain": [
       "[('Sunset,', 1),\n",
       " ('also', 1),\n",
       " ('known', 1),\n",
       " ('as', 1),\n",
       " ('sundown,', 1),\n",
       " ('is', 1),\n",
       " ('the', 1),\n",
       " ('daily', 1),\n",
       " ('disappearance', 1),\n",
       " ('of', 1),\n",
       " ('the', 1),\n",
       " ('Sun', 1),\n",
       " ('below', 1),\n",
       " ('the', 1),\n",
       " ('horizon', 1),\n",
       " ('due', 1),\n",
       " ('to', 1),\n",
       " (\"Earth's\", 1),\n",
       " ('rotation.@As', 1),\n",
       " ('viewed', 1),\n",
       " ('from', 1),\n",
       " ('everywhere', 1),\n",
       " ('on', 1),\n",
       " ('Earth', 1),\n",
       " ('(except', 1),\n",
       " ('the', 1),\n",
       " ('North', 1),\n",
       " ('and', 1),\n",
       " ('South', 1),\n",
       " ('poles),@the', 1),\n",
       " ('equinox', 1),\n",
       " ('Sun', 1),\n",
       " ('sets', 1),\n",
       " ('due', 1),\n",
       " ('west', 1),\n",
       " ('at', 1),\n",
       " ('the', 1),\n",
       " ('moment', 1),\n",
       " ('of', 1),\n",
       " ('both', 1),\n",
       " ('the', 1),\n",
       " ('Spring', 1),\n",
       " ('and', 1),\n",
       " ('Autumn', 1),\n",
       " ('equinox.@As', 1),\n",
       " ('viewed', 1),\n",
       " ('from', 1),\n",
       " ('the', 1),\n",
       " ('Northern', 1),\n",
       " ('Hemisphere,', 1),\n",
       " ('the', 1),\n",
       " ('sun', 1),\n",
       " ('sets', 1),\n",
       " ('to', 1),\n",
       " ('the', 1),\n",
       " ('northwest', 1),\n",
       " ('(or', 1),\n",
       " ('not', 1),\n",
       " ('at', 1),\n",
       " ('all)', 1),\n",
       " ('in', 1),\n",
       " ('the', 1),\n",
       " ('Northern', 1),\n",
       " (\"hemisphere's\", 1),\n",
       " ('spring', 1),\n",
       " ('and', 1),\n",
       " ('summer,', 1),\n",
       " ('and', 1),\n",
       " ('to', 1),\n",
       " ('the', 1),\n",
       " ('southwest', 1),\n",
       " ('in', 1),\n",
       " ('the', 1),\n",
       " ('autumn', 1),\n",
       " ('and', 1),\n",
       " ('winter.@these', 1),\n",
       " ('seasons', 1),\n",
       " ('are', 1),\n",
       " ('reversed', 1),\n",
       " ('for', 1),\n",
       " ('the', 1),\n",
       " ('Southern', 1),\n",
       " ('Hemisphere.', 1)]"
      ]
     },
     "execution_count": 12,
     "metadata": {},
     "output_type": "execute_result"
    }
   ],
   "source": [
    "counts1.collect()"
   ]
  },
  {
   "cell_type": "code",
   "execution_count": 13,
   "id": "7e2e1d48",
   "metadata": {},
   "outputs": [],
   "source": [
    "counts3 = counts1.reduceByKey(lambda x, y: x + y)"
   ]
  },
  {
   "cell_type": "code",
   "execution_count": 14,
   "id": "6f068cae",
   "metadata": {},
   "outputs": [
    {
     "name": "stderr",
     "output_type": "stream",
     "text": [
      "/Users/nihitsaxena/DataStunt/Desyre/Pyspark/P2/proj/lib/python3.7/site-packages/pyspark/python/lib/pyspark.zip/pyspark/shuffle.py:60: UserWarning: Please install psutil to have better support with spilling\n",
      "/Users/nihitsaxena/DataStunt/Desyre/Pyspark/P2/proj/lib/python3.7/site-packages/pyspark/python/lib/pyspark.zip/pyspark/shuffle.py:60: UserWarning: Please install psutil to have better support with spilling\n",
      "                                                                                \r"
     ]
    },
    {
     "data": {
      "text/plain": [
       "[('known', 1),\n",
       " ('as', 1),\n",
       " ('is', 1),\n",
       " ('of', 2),\n",
       " ('below', 1),\n",
       " ('due', 2),\n",
       " ('rotation.@As', 1),\n",
       " ('everywhere', 1),\n",
       " ('(except', 1),\n",
       " ('North', 1),\n",
       " ('poles),@the', 1),\n",
       " ('equinox', 1),\n",
       " ('sets', 2),\n",
       " ('at', 2),\n",
       " ('both', 1),\n",
       " ('Spring', 1),\n",
       " ('equinox.@As', 1),\n",
       " ('sun', 1),\n",
       " ('northwest', 1),\n",
       " ('all)', 1),\n",
       " ('in', 2),\n",
       " (\"hemisphere's\", 1),\n",
       " ('winter.@these', 1),\n",
       " ('are', 1),\n",
       " ('reversed', 1),\n",
       " ('Hemisphere.', 1),\n",
       " ('Sunset,', 1),\n",
       " ('also', 1),\n",
       " ('sundown,', 1),\n",
       " ('the', 13),\n",
       " ('daily', 1),\n",
       " ('disappearance', 1),\n",
       " ('Sun', 2),\n",
       " ('horizon', 1),\n",
       " ('to', 3),\n",
       " (\"Earth's\", 1),\n",
       " ('viewed', 2),\n",
       " ('from', 2),\n",
       " ('on', 1),\n",
       " ('Earth', 1),\n",
       " ('and', 5),\n",
       " ('South', 1),\n",
       " ('west', 1),\n",
       " ('moment', 1),\n",
       " ('Autumn', 1),\n",
       " ('Northern', 2),\n",
       " ('Hemisphere,', 1),\n",
       " ('(or', 1),\n",
       " ('not', 1),\n",
       " ('spring', 1),\n",
       " ('summer,', 1),\n",
       " ('southwest', 1),\n",
       " ('autumn', 1),\n",
       " ('seasons', 1),\n",
       " ('for', 1),\n",
       " ('Southern', 1)]"
      ]
     },
     "execution_count": 14,
     "metadata": {},
     "output_type": "execute_result"
    }
   ],
   "source": [
    "counts3.collect()"
   ]
  },
  {
   "cell_type": "code",
   "execution_count": 17,
   "id": "b193f78a",
   "metadata": {},
   "outputs": [
    {
     "data": {
      "text/plain": [
       "[('known', 1),\n",
       " ('below', 1),\n",
       " ('due', 2),\n",
       " ('rotation.@As', 1),\n",
       " ('everywhere', 1),\n",
       " ('(except', 1),\n",
       " ('North', 1),\n",
       " ('poles),@the', 1),\n",
       " ('equinox', 1),\n",
       " ('sets', 2),\n",
       " ('at', 2),\n",
       " ('both', 1),\n",
       " ('Spring', 1),\n",
       " ('equinox.@As', 1),\n",
       " ('sun', 1),\n",
       " ('northwest', 1),\n",
       " ('all)', 1),\n",
       " ('in', 2),\n",
       " (\"hemisphere's\", 1),\n",
       " ('winter.@these', 1),\n",
       " ('are', 1),\n",
       " ('reversed', 1),\n",
       " ('Hemisphere.', 1),\n",
       " ('Sunset,', 1),\n",
       " ('also', 1),\n",
       " ('sundown,', 1),\n",
       " ('daily', 1),\n",
       " ('disappearance', 1),\n",
       " ('Sun', 2),\n",
       " ('horizon', 1),\n",
       " ('to', 3),\n",
       " (\"Earth's\", 1),\n",
       " ('viewed', 2),\n",
       " ('from', 2),\n",
       " ('Earth', 1),\n",
       " ('South', 1),\n",
       " ('west', 1),\n",
       " ('moment', 1),\n",
       " ('Autumn', 1),\n",
       " ('Northern', 2),\n",
       " ('Hemisphere,', 1),\n",
       " ('(or', 1),\n",
       " ('spring', 1),\n",
       " ('summer,', 1),\n",
       " ('southwest', 1),\n",
       " ('autumn', 1),\n",
       " ('seasons', 1),\n",
       " ('Southern', 1)]"
      ]
     },
     "execution_count": 17,
     "metadata": {},
     "output_type": "execute_result"
    }
   ],
   "source": [
    "counts3.filter(lambda x: x[0] not in [\"for\", \"and\", \"not\", \"on\", \"the\", \"as\", \"of\", \"is\"]).collect()"
   ]
  },
  {
   "cell_type": "code",
   "execution_count": null,
   "id": "32c86bce",
   "metadata": {},
   "outputs": [],
   "source": []
  }
 ],
 "metadata": {
  "kernelspec": {
   "display_name": "Python 3 (ipykernel)",
   "language": "python",
   "name": "python3"
  },
  "language_info": {
   "codemirror_mode": {
    "name": "ipython",
    "version": 3
   },
   "file_extension": ".py",
   "mimetype": "text/x-python",
   "name": "python",
   "nbconvert_exporter": "python",
   "pygments_lexer": "ipython3",
   "version": "3.9.7"
  }
 },
 "nbformat": 4,
 "nbformat_minor": 5
}
