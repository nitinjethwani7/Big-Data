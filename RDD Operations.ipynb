{
 "cells": [
  {
   "cell_type": "code",
   "execution_count": 2,
   "id": "4d5c1464",
   "metadata": {},
   "outputs": [
    {
     "name": "stdout",
     "output_type": "stream",
     "text": [
      "Requirement already satisfied: pyspark in /Users/nihitsaxena/DataStunt/Desyre/Pyspark/P2/proj/lib/python3.7/site-packages (3.2.1)\n",
      "Requirement already satisfied: py4j==0.10.9.3 in /Users/nihitsaxena/DataStunt/Desyre/Pyspark/P2/proj/lib/python3.7/site-packages (from pyspark) (0.10.9.3)\n",
      "\u001b[33mWARNING: You are using pip version 21.3.1; however, version 22.0.2 is available.\n",
      "You should consider upgrading via the '/Users/nihitsaxena/DataStunt/Desyre/Pyspark/P2/proj/bin/python -m pip install --upgrade pip' command.\u001b[0m\n"
     ]
    }
   ],
   "source": [
    "!pip install pyspark"
   ]
  },
  {
   "cell_type": "code",
   "execution_count": 3,
   "id": "42f43cec",
   "metadata": {},
   "outputs": [],
   "source": [
    "# import library for pyspark\n",
    "import pyspark"
   ]
  },
  {
   "cell_type": "code",
   "execution_count": 4,
   "id": "44396c50",
   "metadata": {},
   "outputs": [],
   "source": [
    "# To create SparkContext\n",
    "from pyspark import SparkContext"
   ]
  },
  {
   "cell_type": "code",
   "execution_count": 10,
   "id": "0fb16247",
   "metadata": {},
   "outputs": [],
   "source": [
    "sc = SparkContext()"
   ]
  },
  {
   "cell_type": "code",
   "execution_count": 8,
   "id": "13998611",
   "metadata": {},
   "outputs": [],
   "source": [
    "sc1 =SparkContext()"
   ]
  },
  {
   "cell_type": "code",
   "execution_count": 9,
   "id": "80a79a0d",
   "metadata": {},
   "outputs": [],
   "source": [
    "sc1.stop()"
   ]
  },
  {
   "cell_type": "markdown",
   "id": "e965c483",
   "metadata": {},
   "source": [
    "# How to create RDDs"
   ]
  },
  {
   "cell_type": "markdown",
   "id": "72836525",
   "metadata": {},
   "source": [
    "# Methods of RDDs\n",
    "1. from variable\n",
    "2. from RDD\n",
    "3. from External Datasets"
   ]
  },
  {
   "cell_type": "code",
   "execution_count": 11,
   "id": "e07eb562",
   "metadata": {},
   "outputs": [],
   "source": [
    "#from passing variables use parallelize \n",
    "x = [1,2,3,4,5]\n",
    "y = sc.parallelize(x)"
   ]
  },
  {
   "cell_type": "code",
   "execution_count": 12,
   "id": "2b725214",
   "metadata": {},
   "outputs": [
    {
     "data": {
      "text/plain": [
       "ParallelCollectionRDD[0] at readRDDFromFile at PythonRDD.scala:274"
      ]
     },
     "execution_count": 12,
     "metadata": {},
     "output_type": "execute_result"
    }
   ],
   "source": [
    "y"
   ]
  },
  {
   "cell_type": "code",
   "execution_count": 14,
   "id": "9b206975",
   "metadata": {},
   "outputs": [
    {
     "data": {
      "text/plain": [
       "[1, 2, 3, 4, 5]"
      ]
     },
     "execution_count": 14,
     "metadata": {},
     "output_type": "execute_result"
    }
   ],
   "source": [
    "y.collect() # Action"
   ]
  },
  {
   "cell_type": "code",
   "execution_count": 15,
   "id": "01291567",
   "metadata": {},
   "outputs": [
    {
     "ename": "AttributeError",
     "evalue": "'list' object has no attribute 'collect'",
     "output_type": "error",
     "traceback": [
      "\u001b[0;31m---------------------------------------------------------------------------\u001b[0m",
      "\u001b[0;31mAttributeError\u001b[0m                            Traceback (most recent call last)",
      "\u001b[0;32m/var/folders/fy/v82p1kdx1vq76mtv2rf475sm0000gn/T/ipykernel_66958/2622694548.py\u001b[0m in \u001b[0;36m<module>\u001b[0;34m\u001b[0m\n\u001b[0;32m----> 1\u001b[0;31m \u001b[0mx\u001b[0m\u001b[0;34m.\u001b[0m\u001b[0mcollect\u001b[0m\u001b[0;34m(\u001b[0m\u001b[0;34m)\u001b[0m\u001b[0;34m\u001b[0m\u001b[0;34m\u001b[0m\u001b[0m\n\u001b[0m",
      "\u001b[0;31mAttributeError\u001b[0m: 'list' object has no attribute 'collect'"
     ]
    }
   ],
   "source": [
    "x.collect()"
   ]
  },
  {
   "cell_type": "markdown",
   "id": "6868b318",
   "metadata": {},
   "source": [
    "# Transformation Functions"
   ]
  },
  {
   "cell_type": "markdown",
   "id": "3dfc25db",
   "metadata": {},
   "source": [
    "# map()"
   ]
  },
  {
   "cell_type": "code",
   "execution_count": null,
   "id": "4c570aaa",
   "metadata": {},
   "outputs": [],
   "source": [
    "#It applies to each element of RDD and it returns the result as new RDD. ... \n",
    "#Map transforms an RDD of length N into another RDD of length N. \n",
    "#The input and output RDDs will typically have the same number of records."
   ]
  },
  {
   "cell_type": "code",
   "execution_count": 16,
   "id": "7cfc10dc",
   "metadata": {},
   "outputs": [],
   "source": [
    "a1 = [\"b\",\"a\",\"c\"]\n",
    "x = sc.parallelize(a1)"
   ]
  },
  {
   "cell_type": "code",
   "execution_count": 17,
   "id": "cf0d7fec",
   "metadata": {},
   "outputs": [
    {
     "data": {
      "text/plain": [
       "ParallelCollectionRDD[1] at readRDDFromFile at PythonRDD.scala:274"
      ]
     },
     "execution_count": 17,
     "metadata": {},
     "output_type": "execute_result"
    }
   ],
   "source": [
    "x"
   ]
  },
  {
   "cell_type": "code",
   "execution_count": 20,
   "id": "436ff9a1",
   "metadata": {},
   "outputs": [
    {
     "data": {
      "text/plain": [
       "PythonRDD[3] at RDD at PythonRDD.scala:53"
      ]
     },
     "execution_count": 20,
     "metadata": {},
     "output_type": "execute_result"
    }
   ],
   "source": [
    "y = x.map(lambda z: (z, 1))"
   ]
  },
  {
   "cell_type": "code",
   "execution_count": 19,
   "id": "db813161",
   "metadata": {},
   "outputs": [
    {
     "name": "stderr",
     "output_type": "stream",
     "text": [
      "                                                                                \r"
     ]
    },
    {
     "data": {
      "text/plain": [
       "[('b', 1), ('a', 1), ('c', 1)]"
      ]
     },
     "execution_count": 19,
     "metadata": {},
     "output_type": "execute_result"
    }
   ],
   "source": [
    "y.collect()"
   ]
  },
  {
   "cell_type": "markdown",
   "id": "2401e34d",
   "metadata": {},
   "source": [
    "# flatmap()"
   ]
  },
  {
   "cell_type": "code",
   "execution_count": null,
   "id": "01b779ca",
   "metadata": {},
   "outputs": [],
   "source": [
    "#It applies to each element of RDD and it returns the result as new RDD. \n",
    "#It is similar to Map, but FlatMap allows returning 0, 1 or more elements from map function."
   ]
  },
  {
   "cell_type": "code",
   "execution_count": 21,
   "id": "0e438ae8",
   "metadata": {},
   "outputs": [],
   "source": [
    "x = sc.parallelize([1,2,3])\n",
    "y = x.flatMap(lambda x: (x, x*100, 42))\n"
   ]
  },
  {
   "cell_type": "code",
   "execution_count": 22,
   "id": "b575e178",
   "metadata": {},
   "outputs": [
    {
     "data": {
      "text/plain": [
       "[1, 100, 42, 2, 200, 42, 3, 300, 42]"
      ]
     },
     "execution_count": 22,
     "metadata": {},
     "output_type": "execute_result"
    }
   ],
   "source": [
    "y.collect()"
   ]
  },
  {
   "cell_type": "code",
   "execution_count": 23,
   "id": "035b692f",
   "metadata": {},
   "outputs": [],
   "source": [
    "d1 = [\"This is a FlatMap operation in PySpark\"] \n",
    "rdd1 = sc.parallelize(d1)\n",
    "rdd2 = rdd1.flatMap(lambda x: x.split(\" \"))\n"
   ]
  },
  {
   "cell_type": "code",
   "execution_count": 24,
   "id": "786d52be",
   "metadata": {},
   "outputs": [
    {
     "data": {
      "text/plain": [
       "['This', 'is', 'a', 'FlatMap', 'operation', 'in', 'PySpark']"
      ]
     },
     "execution_count": 24,
     "metadata": {},
     "output_type": "execute_result"
    }
   ],
   "source": [
    "rdd2.collect()"
   ]
  },
  {
   "cell_type": "code",
   "execution_count": 25,
   "id": "9d839774",
   "metadata": {},
   "outputs": [],
   "source": [
    "y = rdd2.map(lambda z: (z, 1))"
   ]
  },
  {
   "cell_type": "code",
   "execution_count": 27,
   "id": "a801abcd",
   "metadata": {},
   "outputs": [
    {
     "data": {
      "text/plain": [
       "[('This', 1),\n",
       " ('is', 1),\n",
       " ('a', 1),\n",
       " ('FlatMap', 1),\n",
       " ('operation', 1),\n",
       " ('in', 1),\n",
       " ('PySpark', 1)]"
      ]
     },
     "execution_count": 27,
     "metadata": {},
     "output_type": "execute_result"
    }
   ],
   "source": [
    "y.collect()"
   ]
  },
  {
   "cell_type": "code",
   "execution_count": 28,
   "id": "b54628eb",
   "metadata": {},
   "outputs": [
    {
     "data": {
      "text/plain": [
       "['This', 'is', 'a', 'FlatMap', 'operation', 'in', 'PySpark']"
      ]
     },
     "execution_count": 28,
     "metadata": {},
     "output_type": "execute_result"
    }
   ],
   "source": [
    "rdd2.collect()"
   ]
  },
  {
   "cell_type": "markdown",
   "id": "65d2ed5a",
   "metadata": {},
   "source": [
    "# filter()"
   ]
  },
  {
   "cell_type": "code",
   "execution_count": null,
   "id": "0c7e6065",
   "metadata": {},
   "outputs": [],
   "source": [
    "#It returns an RDD that only has element that pass the condition mentioned in input function."
   ]
  },
  {
   "cell_type": "code",
   "execution_count": 31,
   "id": "cd24c67f",
   "metadata": {},
   "outputs": [],
   "source": [
    "x = sc.parallelize([1,2,3,4,5,6,7,8,9,10])\n",
    "y = x.filter(lambda x: x%2 == 1) #keep odd values"
   ]
  },
  {
   "cell_type": "code",
   "execution_count": 32,
   "id": "68ddb95c",
   "metadata": {},
   "outputs": [
    {
     "data": {
      "text/plain": [
       "[1, 3, 5, 7, 9]"
      ]
     },
     "execution_count": 32,
     "metadata": {},
     "output_type": "execute_result"
    }
   ],
   "source": [
    "y.collect()"
   ]
  },
  {
   "cell_type": "code",
   "execution_count": 33,
   "id": "2c559428",
   "metadata": {},
   "outputs": [
    {
     "data": {
      "text/plain": [
       "['This', 'is', 'a', 'FlatMap', 'operation', 'in', 'PySpark']"
      ]
     },
     "execution_count": 33,
     "metadata": {},
     "output_type": "execute_result"
    }
   ],
   "source": [
    "rdd2.collect()"
   ]
  },
  {
   "cell_type": "code",
   "execution_count": 34,
   "id": "b9092d3f",
   "metadata": {},
   "outputs": [],
   "source": [
    "y = rdd2.filter(lambda x: x == 'operation')"
   ]
  },
  {
   "cell_type": "code",
   "execution_count": 35,
   "id": "3ee1c5bb",
   "metadata": {},
   "outputs": [
    {
     "data": {
      "text/plain": [
       "['operation']"
      ]
     },
     "execution_count": 35,
     "metadata": {},
     "output_type": "execute_result"
    }
   ],
   "source": [
    "y.collect()"
   ]
  },
  {
   "cell_type": "markdown",
   "id": "8c27a274",
   "metadata": {},
   "source": [
    "# distinct()"
   ]
  },
  {
   "cell_type": "code",
   "execution_count": null,
   "id": "653e7547",
   "metadata": {},
   "outputs": [],
   "source": [
    "#It returns a new dataset that contains the distinct elements of the source dataset. \n",
    "# It is helpful to remove duplicate data.\n",
    "# For example, if RDD has elements (Spark, Spark, Hadoop, Flink), \n",
    "# then rdd.distinct() will give elements (Spark, Hadoop, Flink)."
   ]
  },
  {
   "cell_type": "code",
   "execution_count": 36,
   "id": "460734d2",
   "metadata": {},
   "outputs": [
    {
     "name": "stderr",
     "output_type": "stream",
     "text": [
      "/Users/nihitsaxena/DataStunt/Desyre/Pyspark/P2/proj/lib/python3.7/site-packages/pyspark/python/lib/pyspark.zip/pyspark/shuffle.py:60: UserWarning: Please install psutil to have better support with spilling\n",
      "/Users/nihitsaxena/DataStunt/Desyre/Pyspark/P2/proj/lib/python3.7/site-packages/pyspark/python/lib/pyspark.zip/pyspark/shuffle.py:60: UserWarning: Please install psutil to have better support with spilling\n",
      "/Users/nihitsaxena/DataStunt/Desyre/Pyspark/P2/proj/lib/python3.7/site-packages/pyspark/python/lib/pyspark.zip/pyspark/shuffle.py:60: UserWarning: Please install psutil to have better support with spilling\n",
      "/Users/nihitsaxena/DataStunt/Desyre/Pyspark/P2/proj/lib/python3.7/site-packages/pyspark/python/lib/pyspark.zip/pyspark/shuffle.py:60: UserWarning: Please install psutil to have better support with spilling\n",
      "                                                                                \r"
     ]
    },
    {
     "data": {
      "text/plain": [
       "['r', 'a', 'h']"
      ]
     },
     "execution_count": 36,
     "metadata": {},
     "output_type": "execute_result"
    }
   ],
   "source": [
    "sc.parallelize(('a','r','a','h','h')).distinct().collect()"
   ]
  },
  {
   "cell_type": "code",
   "execution_count": null,
   "id": "c1db2066",
   "metadata": {},
   "outputs": [],
   "source": [
    "# Find max flight in year 2000"
   ]
  },
  {
   "cell_type": "markdown",
   "id": "9d28cd01",
   "metadata": {},
   "source": [
    "# Actions Functions"
   ]
  },
  {
   "cell_type": "markdown",
   "id": "5ad86244",
   "metadata": {},
   "source": [
    "# count()"
   ]
  },
  {
   "cell_type": "code",
   "execution_count": 37,
   "id": "a97c83cb",
   "metadata": {},
   "outputs": [
    {
     "data": {
      "text/plain": [
       "4"
      ]
     },
     "execution_count": 37,
     "metadata": {},
     "output_type": "execute_result"
    }
   ],
   "source": [
    "#Action count() returns the number of elements in RDD.\n",
    "sc.parallelize((1, 2, 3, 4)).count()"
   ]
  },
  {
   "cell_type": "markdown",
   "id": "1842d207",
   "metadata": {},
   "source": [
    "# sum()"
   ]
  },
  {
   "cell_type": "code",
   "execution_count": 38,
   "id": "fcd0b9d8",
   "metadata": {},
   "outputs": [
    {
     "data": {
      "text/plain": [
       "10"
      ]
     },
     "execution_count": 38,
     "metadata": {},
     "output_type": "execute_result"
    }
   ],
   "source": [
    "# It adds up the value in an RDD.\n",
    "sc.parallelize((1, 2, 3, 4)).sum()"
   ]
  },
  {
   "cell_type": "markdown",
   "id": "a57bea65",
   "metadata": {},
   "source": [
    "# max()"
   ]
  },
  {
   "cell_type": "code",
   "execution_count": 39,
   "id": "cd701b8a",
   "metadata": {},
   "outputs": [],
   "source": [
    "#Return the maximum value from the dataset.\n",
    "x = sc.parallelize([2,4,1])\n"
   ]
  },
  {
   "cell_type": "code",
   "execution_count": 40,
   "id": "3ded28ff",
   "metadata": {},
   "outputs": [
    {
     "data": {
      "text/plain": [
       "4"
      ]
     },
     "execution_count": 40,
     "metadata": {},
     "output_type": "execute_result"
    }
   ],
   "source": [
    "x.max()"
   ]
  },
  {
   "cell_type": "code",
   "execution_count": 41,
   "id": "c4c312e5",
   "metadata": {},
   "outputs": [
    {
     "data": {
      "text/plain": [
       "1"
      ]
     },
     "execution_count": 41,
     "metadata": {},
     "output_type": "execute_result"
    }
   ],
   "source": [
    "x.min()"
   ]
  },
  {
   "cell_type": "markdown",
   "id": "9f0f6d47",
   "metadata": {},
   "source": [
    "# mean()"
   ]
  },
  {
   "cell_type": "code",
   "execution_count": 42,
   "id": "f66dd1af",
   "metadata": {},
   "outputs": [],
   "source": [
    "#Alias for Avg. Returns the average of the values in a column.\n",
    "x = sc.parallelize([2,4,1])\n",
    "y = x.mean()"
   ]
  },
  {
   "cell_type": "code",
   "execution_count": 43,
   "id": "13db8cd8",
   "metadata": {},
   "outputs": [
    {
     "data": {
      "text/plain": [
       "2.3333333333333335"
      ]
     },
     "execution_count": 43,
     "metadata": {},
     "output_type": "execute_result"
    }
   ],
   "source": [
    "x.mean()"
   ]
  },
  {
   "cell_type": "code",
   "execution_count": null,
   "id": "9f4b21d3",
   "metadata": {},
   "outputs": [],
   "source": []
  },
  {
   "cell_type": "code",
   "execution_count": null,
   "id": "7a02d9dd",
   "metadata": {},
   "outputs": [],
   "source": []
  }
 ],
 "metadata": {
  "kernelspec": {
   "display_name": "Python 3 (ipykernel)",
   "language": "python",
   "name": "python3"
  },
  "language_info": {
   "codemirror_mode": {
    "name": "ipython",
    "version": 3
   },
   "file_extension": ".py",
   "mimetype": "text/x-python",
   "name": "python",
   "nbconvert_exporter": "python",
   "pygments_lexer": "ipython3",
   "version": "3.9.7"
  }
 },
 "nbformat": 4,
 "nbformat_minor": 5
}
