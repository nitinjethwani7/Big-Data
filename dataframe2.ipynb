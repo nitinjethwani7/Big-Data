{
 "cells": [
  {
   "cell_type": "code",
   "execution_count": null,
   "id": "88b5ba3a",
   "metadata": {},
   "outputs": [],
   "source": [
    "#importing pyspark\n",
    "import pyspark"
   ]
  },
  {
   "cell_type": "code",
   "execution_count": null,
   "id": "600a7757",
   "metadata": {},
   "outputs": [],
   "source": [
    "#importing sparksession\n",
    "from pyspark.sql import SparkSession"
   ]
  },
  {
   "cell_type": "code",
   "execution_count": null,
   "id": "c53aaa79",
   "metadata": {},
   "outputs": [],
   "source": [
    "#creating a sparksession object and providing appName \n",
    "spark=SparkSession.builder.appName(\"airline\").getOrCreate()"
   ]
  },
  {
   "cell_type": "code",
   "execution_count": null,
   "id": "96e40a28",
   "metadata": {},
   "outputs": [],
   "source": [
    "spark.stop()"
   ]
  },
  {
   "cell_type": "markdown",
   "id": "2782cdcf",
   "metadata": {},
   "source": [
    "# ################################"
   ]
  },
  {
   "cell_type": "code",
   "execution_count": null,
   "id": "c227779a",
   "metadata": {},
   "outputs": [],
   "source": [
    "#To create dataframe form External datasets\n",
    "df = spark.read.option(\"header\", \"true\").csv(\"airlines1.csv\")"
   ]
  },
  {
   "cell_type": "code",
   "execution_count": null,
   "id": "df456986",
   "metadata": {},
   "outputs": [],
   "source": [
    "# for few columns\n",
    "df.columns[:5]"
   ]
  },
  {
   "cell_type": "code",
   "execution_count": null,
   "id": "32edea9b",
   "metadata": {},
   "outputs": [],
   "source": [
    "# for all columns\n",
    "df.columns"
   ]
  },
  {
   "cell_type": "markdown",
   "id": "4a0468dd",
   "metadata": {},
   "source": [
    "# Create multiple dataframes as per need"
   ]
  },
  {
   "cell_type": "code",
   "execution_count": null,
   "id": "b3b861bb",
   "metadata": {},
   "outputs": [],
   "source": [
    "Flight_Details = df.select(\"_c0\",\"Year\", \"Month\", \"DayofMonth\" , \"FlightDate\",\"Tail_Number\", \"Flight_Number_Reporting_Airline\" )"
   ]
  },
  {
   "cell_type": "code",
   "execution_count": null,
   "id": "6075c29a",
   "metadata": {},
   "outputs": [],
   "source": [
    "#count total no of flights in each years \n",
    "Flight_Details.select('Year').groupBy('Year').count().show()"
   ]
  },
  {
   "cell_type": "code",
   "execution_count": null,
   "id": "e4c638ec",
   "metadata": {},
   "outputs": [],
   "source": [
    "#count total no of flights in each months\n",
    "Flight_Details.select('Month').groupBy('Month').count().show()"
   ]
  },
  {
   "cell_type": "code",
   "execution_count": null,
   "id": "d14fccb1",
   "metadata": {},
   "outputs": [],
   "source": [
    "#count total no of cancelled flights in each years"
   ]
  },
  {
   "cell_type": "code",
   "execution_count": null,
   "id": "80c6a201",
   "metadata": {},
   "outputs": [],
   "source": [
    "df.select('Year').filter(\"Cancelled = 1\").groupBy('Year').count().show()"
   ]
  },
  {
   "cell_type": "code",
   "execution_count": null,
   "id": "744694ab",
   "metadata": {},
   "outputs": [],
   "source": [
    "#count total no of cancelled flights in each months"
   ]
  },
  {
   "cell_type": "code",
   "execution_count": null,
   "id": "b8882c26",
   "metadata": {},
   "outputs": [],
   "source": [
    "df.select('Month').filter(\"Cancelled = 1\").groupBy('Month').count().show()"
   ]
  },
  {
   "cell_type": "code",
   "execution_count": null,
   "id": "c1f82734",
   "metadata": {},
   "outputs": [],
   "source": [
    "#count total no of flights By departure airports"
   ]
  },
  {
   "cell_type": "code",
   "execution_count": null,
   "id": "229eda3a",
   "metadata": {},
   "outputs": [],
   "source": [
    "df.select('Origin').groupBy('Origin').count().show()"
   ]
  },
  {
   "cell_type": "code",
   "execution_count": null,
   "id": "144659df",
   "metadata": {},
   "outputs": [],
   "source": [
    "#calculate years wise on time departure flights"
   ]
  },
  {
   "cell_type": "code",
   "execution_count": null,
   "id": "7400b4e8",
   "metadata": {},
   "outputs": [],
   "source": [
    "df.select('Year').filter(\"DepDelay <= 0\").groupBy('Year').count().show()"
   ]
  },
  {
   "cell_type": "code",
   "execution_count": null,
   "id": "504d23b8",
   "metadata": {},
   "outputs": [],
   "source": [
    "#calculate years wise departure delay flights\n",
    "df.select('Year').filter(\"DepDelay > 0\").groupBy('Year').count().show()"
   ]
  },
  {
   "cell_type": "code",
   "execution_count": null,
   "id": "8aa0417d",
   "metadata": {},
   "outputs": [],
   "source": [
    "#calculate years wise permormance of flight like on time departure, on time arrival"
   ]
  },
  {
   "cell_type": "code",
   "execution_count": null,
   "id": "adbd6036",
   "metadata": {},
   "outputs": [],
   "source": [
    "df.select('Year').filter((df.DepDelay <= 0) & (df.ArrDelay <= 0)).groupBy('Year').count().show()"
   ]
  },
  {
   "cell_type": "code",
   "execution_count": null,
   "id": "901f5981",
   "metadata": {},
   "outputs": [],
   "source": []
  },
  {
   "cell_type": "code",
   "execution_count": null,
   "id": "9da294cc",
   "metadata": {},
   "outputs": [],
   "source": [
    "Flight_Origin= df.select(\"_c0\",\"OriginAirportID\", \"OriginAirportSeqID\", \"OriginCityMarketID\",\"Origin\", \"OriginCityName\",\"OriginState\", \"OriginStateName\")"
   ]
  },
  {
   "cell_type": "code",
   "execution_count": null,
   "id": "55c8b3b6",
   "metadata": {},
   "outputs": [],
   "source": [
    "Flight_Destination = df.select(\"_c0\",\"DestAirportID\", \"DestAirportSeqID\", \"Dest\", \"DestCityName\",\"DestState\",\"DestStateName\")"
   ]
  },
  {
   "cell_type": "code",
   "execution_count": null,
   "id": "89d462bc",
   "metadata": {},
   "outputs": [],
   "source": [
    "Flight_arr_dep = df.select(\"_c0\",\"CRSArrTime\",\"ArrTime\", \"CRSDepTime\",\"DepTime\")"
   ]
  },
  {
   "cell_type": "code",
   "execution_count": null,
   "id": "ca1df19f",
   "metadata": {},
   "outputs": [],
   "source": [
    "DelayDF= df.select(\"_c0\",\"CarrierDelay\",\"WeatherDelay\", \"NASDelay\",\"SecurityDelay\",\"LateAircraftDelay\")"
   ]
  },
  {
   "cell_type": "code",
   "execution_count": null,
   "id": "a9cbfe7b",
   "metadata": {},
   "outputs": [],
   "source": [
    "Flight_cancel = df.select(\"_c0\",\"Cancelled\",\"CancellationCode\",\"Diverted\",\"Flights\")"
   ]
  },
  {
   "cell_type": "code",
   "execution_count": null,
   "id": "f47c9b8a",
   "metadata": {},
   "outputs": [],
   "source": [
    "#modify column name\n",
    "# to modify multiple column name\n",
    "#Flight_cancel.withColumnRenamed(\"_c0\",\"ID\").withColumnRenamed(\"CancellationCode\",\"Code\")"
   ]
  },
  {
   "cell_type": "code",
   "execution_count": null,
   "id": "7ea838fa",
   "metadata": {},
   "outputs": [],
   "source": [
    "Flight_cancel = Flight_cancel.withColumnRenamed(\"_c0\",\"ID\")"
   ]
  },
  {
   "cell_type": "code",
   "execution_count": null,
   "id": "fa4ace09",
   "metadata": {},
   "outputs": [],
   "source": [
    "Flight_cancel.show()"
   ]
  },
  {
   "cell_type": "markdown",
   "id": "57ee3b21",
   "metadata": {},
   "source": [
    "# Data Cleaning\n",
    "# handling null values"
   ]
  },
  {
   "cell_type": "code",
   "execution_count": null,
   "id": "3a1030b9",
   "metadata": {},
   "outputs": [],
   "source": [
    "Flight_cancel.show()"
   ]
  },
  {
   "cell_type": "code",
   "execution_count": null,
   "id": "463eba12",
   "metadata": {},
   "outputs": [],
   "source": [
    "Flight_cancel.na.drop().show()"
   ]
  },
  {
   "cell_type": "code",
   "execution_count": null,
   "id": "037b28d0",
   "metadata": {},
   "outputs": [],
   "source": [
    "Flight_cancel.na.drop(how='any').show()"
   ]
  },
  {
   "cell_type": "code",
   "execution_count": null,
   "id": "5e8a9168",
   "metadata": {},
   "outputs": [],
   "source": [
    "Flight_cancel.na.fill(\"yes\").show()"
   ]
  },
  {
   "cell_type": "code",
   "execution_count": null,
   "id": "83dc7167",
   "metadata": {},
   "outputs": [],
   "source": []
  },
  {
   "cell_type": "markdown",
   "id": "79c09bff",
   "metadata": {},
   "source": [
    "# apply pyspark windows function"
   ]
  },
  {
   "cell_type": "code",
   "execution_count": null,
   "id": "d5cc13b1",
   "metadata": {},
   "outputs": [],
   "source": [
    "from pyspark.sql.window import Window\n",
    "from pyspark.sql.functions import row_number"
   ]
  },
  {
   "cell_type": "code",
   "execution_count": null,
   "id": "f8372f92",
   "metadata": {
    "scrolled": true
   },
   "outputs": [],
   "source": [
    "ndf  = Window.partitionBy(\"OriginState\").orderBy(\"OriginAirportID\")\n",
    "Flight_Origin.withColumn(\"row_number\",row_number().over(ndf)).show()\n"
   ]
  },
  {
   "cell_type": "code",
   "execution_count": null,
   "id": "566c38c6",
   "metadata": {},
   "outputs": [],
   "source": [
    "\n",
    "# Use rank function\n",
    "from pyspark.sql.functions import rank\n",
    "Flight_Origin.withColumn(\"rank\",rank().over(ndf)).show()\n"
   ]
  },
  {
   "cell_type": "code",
   "execution_count": null,
   "id": "ce597509",
   "metadata": {},
   "outputs": [],
   "source": [
    "# sorting dataframe by using sort\n",
    "Flight_Origin.sort(\"Origin\",\"OriginState\").show()\n"
   ]
  },
  {
   "cell_type": "code",
   "execution_count": null,
   "id": "34a60f5a",
   "metadata": {},
   "outputs": [],
   "source": [
    "# sorting datafranme by orderby\n",
    "Flight_Origin.orderBy(\"Origin\",\"OriginState\").show()\n"
   ]
  },
  {
   "cell_type": "code",
   "execution_count": null,
   "id": "ac71547e",
   "metadata": {},
   "outputs": [],
   "source": [
    "# sort by ascending\n",
    "#Flight_Origin.sort(Flight_Origin.Origin.asc(),df.OriginState.asc()).show()\n",
    "#Flight_Origin.orderBy(col(\"Origin\").asc(),col(\"OriginState\").asc()).show()\n"
   ]
  },
  {
   "cell_type": "code",
   "execution_count": null,
   "id": "82ba95bd",
   "metadata": {},
   "outputs": [],
   "source": [
    "# sort by desciending \n",
    "#Flight_Origin.sort(Flight_Origin.Origin.desc(),df.OriginState.desc()).show()\n",
    "#Flight_Origin.orderBy(col(\"Origin\").desc(),col(\"OriginState\").desc()).show()\n"
   ]
  },
  {
   "cell_type": "code",
   "execution_count": null,
   "id": "b2995b38",
   "metadata": {},
   "outputs": [],
   "source": [
    "from pyspark.sql.types import StructType,StructField, StringType, IntegerType \n",
    "from pyspark.sql.types import ArrayType, DoubleType, BooleanType\n",
    "from pyspark.sql.functions import col,array_contains"
   ]
  },
  {
   "cell_type": "code",
   "execution_count": null,
   "id": "af2dcbae",
   "metadata": {},
   "outputs": [],
   "source": [
    "Flight_Destination.show()"
   ]
  },
  {
   "cell_type": "code",
   "execution_count": null,
   "id": "ac4fbe0c",
   "metadata": {},
   "outputs": [],
   "source": []
  },
  {
   "cell_type": "markdown",
   "id": "164ba339",
   "metadata": {},
   "source": [
    "# how to use UDF in pyspark DataFrame"
   ]
  },
  {
   "cell_type": "code",
   "execution_count": null,
   "id": "661b9ce1",
   "metadata": {},
   "outputs": [],
   "source": [
    "from pyspark.sql.functions import udf"
   ]
  },
  {
   "cell_type": "code",
   "execution_count": null,
   "id": "eff98d68",
   "metadata": {},
   "outputs": [],
   "source": [
    "from pyspark.sql.functions import col"
   ]
  },
  {
   "cell_type": "code",
   "execution_count": null,
   "id": "ad7abd92",
   "metadata": {},
   "outputs": [],
   "source": [
    "#from pyspark.sql.types import StructType, IntegerType, StringType\n",
    "# as per datatype StructType, IntegerType, StringType in columns we need to import these library \n",
    "#otherwise bydefaut it wil take StringType"
   ]
  },
  {
   "cell_type": "code",
   "execution_count": null,
   "id": "68ac5587",
   "metadata": {},
   "outputs": [],
   "source": [
    "#create function in python"
   ]
  },
  {
   "cell_type": "code",
   "execution_count": null,
   "id": "65ac9a09",
   "metadata": {},
   "outputs": [],
   "source": [
    "def destination(str):\n",
    "    resStr=\"\"\n",
    "    arr = str.split(\",\")\n",
    "    for x in arr:\n",
    "       resStr= arr[0]\n",
    "    return resStr \n"
   ]
  },
  {
   "cell_type": "code",
   "execution_count": null,
   "id": "ce93f94f",
   "metadata": {},
   "outputs": [],
   "source": [
    "#Converting python function to UDF\n",
    "destinationUDF = udf(lambda z: destination(z))"
   ]
  },
  {
   "cell_type": "code",
   "execution_count": null,
   "id": "8a1d8b1f",
   "metadata": {},
   "outputs": [],
   "source": [
    "df.select(col(\"Dest\"),destinationUDF(col(\"DestCityName\")).alias(\"DestCityName\") ).show(truncate=False)"
   ]
  },
  {
   "cell_type": "code",
   "execution_count": null,
   "id": "80805ec5",
   "metadata": {},
   "outputs": [],
   "source": [
    "Flight_Destination.show()"
   ]
  },
  {
   "cell_type": "code",
   "execution_count": null,
   "id": "2999b28c",
   "metadata": {},
   "outputs": [],
   "source": []
  },
  {
   "cell_type": "code",
   "execution_count": null,
   "id": "ae0579bc",
   "metadata": {},
   "outputs": [],
   "source": []
  }
 ],
 "metadata": {
  "kernelspec": {
   "display_name": "Python 3 (ipykernel)",
   "language": "python",
   "name": "python3"
  },
  "language_info": {
   "codemirror_mode": {
    "name": "ipython",
    "version": 3
   },
   "file_extension": ".py",
   "mimetype": "text/x-python",
   "name": "python",
   "nbconvert_exporter": "python",
   "pygments_lexer": "ipython3",
   "version": "3.9.7"
  }
 },
 "nbformat": 4,
 "nbformat_minor": 5
}
